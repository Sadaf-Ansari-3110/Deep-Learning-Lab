{
  "nbformat": 4,
  "nbformat_minor": 0,
  "metadata": {
    "colab": {
      "provenance": [],
      "authorship_tag": "ABX9TyMzQ/vUlbQP61869HCqUduT",
      "include_colab_link": true
    },
    "kernelspec": {
      "name": "python3",
      "display_name": "Python 3"
    },
    "language_info": {
      "name": "python"
    }
  },
  "cells": [
    {
      "cell_type": "markdown",
      "metadata": {
        "id": "view-in-github",
        "colab_type": "text"
      },
      "source": [
        "<a href=\"https://colab.research.google.com/github/Sadaf-Ansari-3110/Deep-Learning-Lab/blob/main/Practical1_1.ipynb\" target=\"_parent\"><img src=\"https://colab.research.google.com/assets/colab-badge.svg\" alt=\"Open In Colab\"/></a>"
      ]
    },
    {
      "cell_type": "code",
      "execution_count": null,
      "metadata": {
        "id": "I15C9ShELdNk"
      },
      "outputs": [],
      "source": [
        "import numpy as np\n",
        "import tensorflow as tf\n",
        "from sklearn.datasets import load_iris\n",
        "from sklearn.model_selection import train_test_split\n",
        "from sklearn.preprocessing import OneHotEncoder, StandardScaler\n",
        "# Load and preprocess the Iris dataset\n",
        "iris = load_iris()\n",
        "X, y = iris.data, iris.target.reshape(-1, 1)\n",
        "# Normalize the features\n",
        "scaler = StandardScaler()\n",
        "X = scaler.fit_transform(X)\n",
        "# One-hot encode the categorical labels\n",
        "encoder = OneHotEncoder(sparse=False)\n",
        "y = encoder.fit_transform(y)\n",
        "# Split data into training and testing sets\n",
        "\n",
        "X_train, X_test, y_train, y_test = train_test_split(X, y, test_size=0.2,\n",
        "random_state=42)\n",
        "# Define the MLP model using Keras\n",
        "model = tf.keras.Sequential([\n",
        "tf.keras.layers.Dense(10, input_shape=(4,), activation=&#39;relu&#39;),\n",
        "tf.keras.layers.Dense(8, activation=&#39;relu&#39;),\n",
        "tf.keras.layers.Dense(3, activation=&#39;softmax&#39;)\n",
        "])\n",
        "# Compile the model\n",
        "model.compile(optimizer=&#39;adam&#39;,\n",
        "loss=&#39;categorical_crossentropy&#39;,\n",
        "metrics=[&#39;accuracy&#39;])\n",
        "# Train the model\n",
        "history = model.fit(X_train, y_train, epochs=100, batch_size=4, verbose=1,\n",
        "validation_split=0.1)\n",
        "# Evaluate the model\n",
        "loss, accuracy = model.evaluate(X_test, y_test, verbose=0)\n",
        "print(f&#39;Test Accuracy: {accuracy:.4f}&#39;)\n",
        "# Predictions example\n",
        "predictions = model.predict(X_test[:5])\n",
        "predicted_labels = np.argmax(predictions, axis=1)\n",
        "print(f&#39;Example Predictions: {predicted_labels}&#39;)"
      ]
    }
  ]
}